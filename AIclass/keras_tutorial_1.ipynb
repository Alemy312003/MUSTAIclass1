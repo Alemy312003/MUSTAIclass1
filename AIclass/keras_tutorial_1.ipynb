{
  "nbformat": 4,
  "nbformat_minor": 0,
  "metadata": {
    "colab": {
      "name": "keras tutorial 1.ipynb",
      "provenance": []
    },
    "kernelspec": {
      "name": "python3",
      "display_name": "Python 3"
    }
  },
  "cells": [
    {
      "cell_type": "code",
      "metadata": {
        "id": "i2bipLcx1Tx7",
        "colab_type": "code",
        "colab": {
          "base_uri": "https://localhost:8080/",
          "height": 493
        },
        "outputId": "6cf324a9-db33-4b0e-9ca2-9077adcb4ecf"
      },
      "source": [
        "import keras\n",
        "from keras.models import Sequential\n",
        "from keras.layers import Dense\n",
        "\n",
        "import numpy as np\n",
        "data = np.random.random((1000, 10)) #隨機產生1000筆資料，每筆資料1包含十個float數字\n",
        "labels = np.random.randint(2, size=(1000, 1)) #隨機產生1000筆資料，每筆資料上限為2(意思就是0 或 1)\n",
        "print(np.shape(data))\n",
        "print(data[0])\n",
        "print(np.shape(labels))\n",
        "print(labels[0])\n",
        "\n",
        "model = Sequential()\n",
        "model.add(Dense(32, activation='relu', input_dim=10))\n",
        "model.add(Dense(1, activation='sigmoid'))\n",
        "model.compile(optimizer='rmsprop', loss='binary_crossentropy', metrics=['accuracy'])\n",
        "\n",
        "model.fit(data, labels, epochs=10, batch_size=32)\n",
        "\n",
        "score=model.evaluate(data, labels)\n",
        "print(score[1])"
      ],
      "execution_count": 2,
      "outputs": [
        {
          "output_type": "stream",
          "text": [
            "Using TensorFlow backend.\n"
          ],
          "name": "stderr"
        },
        {
          "output_type": "stream",
          "text": [
            "(1000, 10)\n",
            "[0.08647787 0.25650301 0.97346831 0.02002396 0.41786549 0.80517494\n",
            " 0.10367538 0.06987304 0.37091672 0.3011406 ]\n",
            "(1000, 1)\n",
            "[0]\n",
            "Epoch 1/10\n",
            "1000/1000 [==============================] - 0s 266us/step - loss: 0.6987 - accuracy: 0.4970\n",
            "Epoch 2/10\n",
            "1000/1000 [==============================] - 0s 34us/step - loss: 0.6967 - accuracy: 0.4970\n",
            "Epoch 3/10\n",
            "1000/1000 [==============================] - 0s 32us/step - loss: 0.6957 - accuracy: 0.5050\n",
            "Epoch 4/10\n",
            "1000/1000 [==============================] - 0s 31us/step - loss: 0.6949 - accuracy: 0.5140\n",
            "Epoch 5/10\n",
            "1000/1000 [==============================] - 0s 31us/step - loss: 0.6943 - accuracy: 0.5140\n",
            "Epoch 6/10\n",
            "1000/1000 [==============================] - 0s 33us/step - loss: 0.6938 - accuracy: 0.5070\n",
            "Epoch 7/10\n",
            "1000/1000 [==============================] - 0s 40us/step - loss: 0.6934 - accuracy: 0.5050\n",
            "Epoch 8/10\n",
            "1000/1000 [==============================] - 0s 33us/step - loss: 0.6926 - accuracy: 0.5190\n",
            "Epoch 9/10\n",
            "1000/1000 [==============================] - 0s 32us/step - loss: 0.6921 - accuracy: 0.5310\n",
            "Epoch 10/10\n",
            "1000/1000 [==============================] - 0s 35us/step - loss: 0.6918 - accuracy: 0.5260\n",
            "1000/1000 [==============================] - 0s 34us/step\n",
            "0.5329999923706055\n"
          ],
          "name": "stdout"
        }
      ]
    },
    {
      "cell_type": "code",
      "metadata": {
        "id": "CikG4VgO4Ni7",
        "colab_type": "code",
        "colab": {}
      },
      "source": [
        ""
      ],
      "execution_count": 0,
      "outputs": []
    }
  ]
}