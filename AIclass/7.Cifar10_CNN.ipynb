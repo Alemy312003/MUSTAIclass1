{
  "nbformat": 4,
  "nbformat_minor": 0,
  "metadata": {
    "colab": {
      "name": "Untitled11.ipynb",
      "provenance": []
    },
    "kernelspec": {
      "name": "python3",
      "display_name": "Python 3"
    },
    "accelerator": "GPU"
  },
  "cells": [
    {
      "cell_type": "code",
      "metadata": {
        "id": "m0jYQJuQty3I",
        "colab_type": "code",
        "colab": {
          "base_uri": "https://localhost:8080/",
          "height": 1000
        },
        "outputId": "b9b9f277-3b83-4253-e551-94fc6224d7df"
      },
      "source": [
        "from keras.datasets import cifar10\n",
        "\n",
        "(x_train, y_train_), (x_test, y_test_) = cifar10.load_data()\n",
        "\n",
        "x_train = x_train.astype('float32') / 255\n",
        "x_test = x_test.astype('float32') / 255\n",
        "\n",
        "from keras.utils import to_categorical\n",
        "y_train = to_categorical(y_train_)\n",
        "y_test = to_categorical(y_test_)\n",
        "\n",
        "\"\"\"## Model Definition\"\"\"\n",
        "\n",
        "from keras.models import Sequential\n",
        "model = Sequential()\n",
        "\n",
        "from keras.layers import Conv2D, MaxPool2D, Flatten, Dense\n",
        "\n",
        "model.add(Conv2D(filters=32, \n",
        "                kernel_size=(3, 3),\n",
        "                activation='relu',\n",
        "                input_shape=(32, 32, 3)))\n",
        "\n",
        "model.add(MaxPool2D())\n",
        "\n",
        "model.add(Conv2D(filters=64,\n",
        "                kernel_size=(3, 3),\n",
        "                activation='relu'))\n",
        "model.add(MaxPool2D())\n",
        "\n",
        "model.add(Flatten())\n",
        "model.add(Dense(10, activation='softmax'))\n",
        "\n",
        "model.compile(optimizer='adam',\n",
        "             loss='categorical_crossentropy',\n",
        "             metrics=['accuracy'])\n",
        "\n",
        "print(model.summary())\n",
        "\n",
        "\"\"\"## Fitting\"\"\"\n",
        "\n",
        "history = model.fit(x_train, y_train, batch_size=50, epochs=15, verbose=1, validation_data=(x_test, y_test))\n",
        "\n",
        "import matplotlib.pyplot as plt\n",
        "\n",
        "history_dict = history.history\n",
        "loss_values = history_dict['loss']\n",
        "val_loss_values = history_dict['val_loss']\n",
        "\n",
        "epochs = range(1, len(history_dict['accuracy']) + 1)\n",
        "\n",
        "plt.plot(epochs, loss_values, 'bo', label='Training loss')\n",
        "plt.plot(epochs, val_loss_values, 'b', label='Validation loss')\n",
        "plt.title('Training and validation loss')\n",
        "plt.xlabel('Epochs')\n",
        "plt.ylabel('Loss')\n",
        "plt.legend()\n",
        "\n",
        "plt.show()"
      ],
      "execution_count": 1,
      "outputs": [
        {
          "output_type": "stream",
          "text": [
            "Using TensorFlow backend.\n"
          ],
          "name": "stderr"
        },
        {
          "output_type": "stream",
          "text": [
            "Downloading data from https://www.cs.toronto.edu/~kriz/cifar-10-python.tar.gz\n",
            "170500096/170498071 [==============================] - 6s 0us/step\n",
            "Model: \"sequential_1\"\n",
            "_________________________________________________________________\n",
            "Layer (type)                 Output Shape              Param #   \n",
            "=================================================================\n",
            "conv2d_1 (Conv2D)            (None, 30, 30, 32)        896       \n",
            "_________________________________________________________________\n",
            "max_pooling2d_1 (MaxPooling2 (None, 15, 15, 32)        0         \n",
            "_________________________________________________________________\n",
            "conv2d_2 (Conv2D)            (None, 13, 13, 64)        18496     \n",
            "_________________________________________________________________\n",
            "max_pooling2d_2 (MaxPooling2 (None, 6, 6, 64)          0         \n",
            "_________________________________________________________________\n",
            "flatten_1 (Flatten)          (None, 2304)              0         \n",
            "_________________________________________________________________\n",
            "dense_1 (Dense)              (None, 10)                23050     \n",
            "=================================================================\n",
            "Total params: 42,442\n",
            "Trainable params: 42,442\n",
            "Non-trainable params: 0\n",
            "_________________________________________________________________\n",
            "None\n",
            "Train on 50000 samples, validate on 10000 samples\n",
            "Epoch 1/15\n",
            "50000/50000 [==============================] - 16s 319us/step - loss: 1.4836 - accuracy: 0.4701 - val_loss: 1.2611 - val_accuracy: 0.5604\n",
            "Epoch 2/15\n",
            "50000/50000 [==============================] - 10s 197us/step - loss: 1.1570 - accuracy: 0.5963 - val_loss: 1.1074 - val_accuracy: 0.6165\n",
            "Epoch 3/15\n",
            "50000/50000 [==============================] - 10s 191us/step - loss: 1.0459 - accuracy: 0.6373 - val_loss: 1.0376 - val_accuracy: 0.6401\n",
            "Epoch 4/15\n",
            "50000/50000 [==============================] - 10s 194us/step - loss: 0.9691 - accuracy: 0.6666 - val_loss: 1.0254 - val_accuracy: 0.6468\n",
            "Epoch 5/15\n",
            "50000/50000 [==============================] - 9s 187us/step - loss: 0.9154 - accuracy: 0.6875 - val_loss: 0.9759 - val_accuracy: 0.6651\n",
            "Epoch 6/15\n",
            "50000/50000 [==============================] - 9s 186us/step - loss: 0.8709 - accuracy: 0.7008 - val_loss: 1.0269 - val_accuracy: 0.6472\n",
            "Epoch 7/15\n",
            "50000/50000 [==============================] - 9s 184us/step - loss: 0.8336 - accuracy: 0.7131 - val_loss: 0.9719 - val_accuracy: 0.6688\n",
            "Epoch 8/15\n",
            "50000/50000 [==============================] - 9s 181us/step - loss: 0.7961 - accuracy: 0.7270 - val_loss: 0.9337 - val_accuracy: 0.6822\n",
            "Epoch 9/15\n",
            "50000/50000 [==============================] - 9s 183us/step - loss: 0.7636 - accuracy: 0.7379 - val_loss: 0.8945 - val_accuracy: 0.6995\n",
            "Epoch 10/15\n",
            "50000/50000 [==============================] - 9s 182us/step - loss: 0.7390 - accuracy: 0.7467 - val_loss: 0.9408 - val_accuracy: 0.6819\n",
            "Epoch 11/15\n",
            "50000/50000 [==============================] - 9s 182us/step - loss: 0.7130 - accuracy: 0.7561 - val_loss: 0.9299 - val_accuracy: 0.6895\n",
            "Epoch 12/15\n",
            "50000/50000 [==============================] - 9s 182us/step - loss: 0.6941 - accuracy: 0.7618 - val_loss: 0.9156 - val_accuracy: 0.6918\n",
            "Epoch 13/15\n",
            "50000/50000 [==============================] - 9s 182us/step - loss: 0.6712 - accuracy: 0.7700 - val_loss: 0.8994 - val_accuracy: 0.7079\n",
            "Epoch 14/15\n",
            "50000/50000 [==============================] - 9s 181us/step - loss: 0.6546 - accuracy: 0.7753 - val_loss: 0.8810 - val_accuracy: 0.7134\n",
            "Epoch 15/15\n",
            "50000/50000 [==============================] - 9s 184us/step - loss: 0.6395 - accuracy: 0.7795 - val_loss: 0.9292 - val_accuracy: 0.6929\n"
          ],
          "name": "stdout"
        },
        {
          "output_type": "display_data",
          "data": {
            "image/png": "[encoded data removed]",
            "text/plain": [
              "<Figure size 432x288 with 1 Axes>"
            ]
          },
          "metadata": {
            "tags": [],
            "needs_background": "light"
          }
        }
      ]
    }
  ]
}