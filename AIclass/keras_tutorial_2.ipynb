{
  "nbformat": 4,
  "nbformat_minor": 0,
  "metadata": {
    "colab": {
      "name": "keras tutorial 1.ipynb",
      "provenance": []
    },
    "kernelspec": {
      "name": "python3",
      "display_name": "Python 3"
    }
  },
  "cells": [
    {
      "cell_type": "code",
      "metadata": {
        "id": "i2bipLcx1Tx7",
        "colab_type": "code",
        "colab": {
          "base_uri": "https://localhost:8080/",
          "height": 731
        },
        "outputId": "811e628c-1720-44b1-a0ad-9b7c7ff46bb4"
      },
      "source": [
        "import keras\n",
        "from keras.models import Sequential\n",
        "from keras.layers import Dense, Dropout, Activation\n",
        "from keras.optimizers import SGD\n",
        "\n",
        "# Generate dummy data\n",
        "import numpy as np\n",
        "x_train = np.random.random((1000, 10))\n",
        "y_train = keras.utils.to_categorical(np.random.randint(10, size=(1000, 1)), num_classes=10)\n",
        "x_test = np.random.random((100, 10))\n",
        "y_test = keras.utils.to_categorical(np.random.randint(10, size=(100, 1)), num_classes=10)\n",
        "\n",
        "model = Sequential()\n",
        "model.add(Dense(64, activation='relu', input_dim=10))\n",
        "model.add(Dense(64, activation='relu'))\n",
        "model.add(Dense(10, activation='softmax'))\n",
        "sgd = SGD(lr=0.01, decay=1e-6, momentum=0.9, nesterov=True)\n",
        "model.compile(loss='categorical_crossentropy', optimizer=sgd, metrics=['accuracy'])\n",
        "\n",
        "model.fit(x_train, y_train, epochs=20, batch_size=128)\n",
        "score = model.evaluate(x_test, y_test, batch_size=128)\n",
        "print(score)"
      ],
      "execution_count": 3,
      "outputs": [
        {
          "output_type": "stream",
          "text": [
            "Epoch 1/20\n",
            "1000/1000 [==============================] - 0s 62us/step - loss: 2.3412 - accuracy: 0.0860\n",
            "Epoch 2/20\n",
            "1000/1000 [==============================] - 0s 18us/step - loss: 2.3190 - accuracy: 0.0880\n",
            "Epoch 3/20\n",
            "1000/1000 [==============================] - 0s 17us/step - loss: 2.3061 - accuracy: 0.0920\n",
            "Epoch 4/20\n",
            "1000/1000 [==============================] - 0s 14us/step - loss: 2.3016 - accuracy: 0.1240\n",
            "Epoch 5/20\n",
            "1000/1000 [==============================] - 0s 16us/step - loss: 2.3002 - accuracy: 0.1160\n",
            "Epoch 6/20\n",
            "1000/1000 [==============================] - 0s 13us/step - loss: 2.2988 - accuracy: 0.1180\n",
            "Epoch 7/20\n",
            "1000/1000 [==============================] - 0s 12us/step - loss: 2.2977 - accuracy: 0.1200\n",
            "Epoch 8/20\n",
            "1000/1000 [==============================] - 0s 14us/step - loss: 2.2969 - accuracy: 0.1230\n",
            "Epoch 9/20\n",
            "1000/1000 [==============================] - 0s 13us/step - loss: 2.2960 - accuracy: 0.1240\n",
            "Epoch 10/20\n",
            "1000/1000 [==============================] - 0s 13us/step - loss: 2.2954 - accuracy: 0.1230\n",
            "Epoch 11/20\n",
            "1000/1000 [==============================] - 0s 13us/step - loss: 2.2945 - accuracy: 0.1210\n",
            "Epoch 12/20\n",
            "1000/1000 [==============================] - 0s 13us/step - loss: 2.2938 - accuracy: 0.1200\n",
            "Epoch 13/20\n",
            "1000/1000 [==============================] - 0s 12us/step - loss: 2.2931 - accuracy: 0.1300\n",
            "Epoch 14/20\n",
            "1000/1000 [==============================] - 0s 12us/step - loss: 2.2922 - accuracy: 0.1270\n",
            "Epoch 15/20\n",
            "1000/1000 [==============================] - 0s 13us/step - loss: 2.2914 - accuracy: 0.1260\n",
            "Epoch 16/20\n",
            "1000/1000 [==============================] - 0s 12us/step - loss: 2.2911 - accuracy: 0.1230\n",
            "Epoch 17/20\n",
            "1000/1000 [==============================] - 0s 12us/step - loss: 2.2902 - accuracy: 0.1290\n",
            "Epoch 18/20\n",
            "1000/1000 [==============================] - 0s 14us/step - loss: 2.2898 - accuracy: 0.1200\n",
            "Epoch 19/20\n",
            "1000/1000 [==============================] - 0s 14us/step - loss: 2.2892 - accuracy: 0.1260\n",
            "Epoch 20/20\n",
            "1000/1000 [==============================] - 0s 14us/step - loss: 2.2886 - accuracy: 0.1230\n",
            "100/100 [==============================] - 0s 153us/step\n",
            "[2.2975950241088867, 0.1599999964237213]\n"
          ],
          "name": "stdout"
        }
      ]
    },
    {
      "cell_type": "code",
      "metadata": {
        "id": "CikG4VgO4Ni7",
        "colab_type": "code",
        "colab": {}
      },
      "source": [
        ""
      ],
      "execution_count": 0,
      "outputs": []
    }
  ]
}