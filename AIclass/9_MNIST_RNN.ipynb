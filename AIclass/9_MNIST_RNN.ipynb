{
  "nbformat": 4,
  "nbformat_minor": 0,
  "metadata": {
    "colab": {
      "name": "9.MNIST_RNN.ipynb",
      "provenance": []
    },
    "kernelspec": {
      "name": "python3",
      "display_name": "Python 3"
    },
    "accelerator": "GPU"
  },
  "cells": [
    {
      "cell_type": "markdown",
      "metadata": {
        "id": "jmKhJCmCxHv9",
        "colab_type": "text"
      },
      "source": [
        ""
      ]
    },
    {
      "cell_type": "code",
      "metadata": {
        "id": "ntf6D1D5xOf0",
        "colab_type": "code",
        "colab": {
          "base_uri": "https://localhost:8080/",
          "height": 935
        },
        "outputId": "14175549-219e-48d0-c8cf-ddba54a15a01"
      },
      "source": [
        "from keras.datasets import mnist\n",
        "from keras.layers import Dense, LSTM\n",
        "from keras.utils import to_categorical\n",
        "from keras.models import Sequential\n",
        "\n",
        "#parameters for LSTM\n",
        "nb_lstm_outputs = 30  \n",
        "nb_time_steps = 28  \n",
        "nb_input_vector = 28 \n",
        "\n",
        "#data preprocessing: tofloat32, normalization, one_hot encoding\n",
        "(x_train, y_train), (x_test, y_test) = mnist.load_data()\n",
        "x_train = x_train.astype('float32')\n",
        "x_test = x_test.astype('float32')\n",
        "x_train /= 255\n",
        "x_test /= 255\n",
        " \n",
        "y_train = to_categorical(y_train, num_classes=10)\n",
        "y_test = to_categorical(y_test, num_classes=10)\n",
        "\n",
        "#build model\n",
        "model = Sequential()\n",
        "model.add(LSTM(units=nb_lstm_outputs, input_shape=(nb_time_steps, nb_input_vector)))\n",
        "model.add(Dense(10, activation='softmax'))\n",
        "\n",
        "#compile:loss, optimizer, metrics\n",
        "model.compile(loss='categorical_crossentropy', optimizer='adam', metrics=['accuracy'])\n",
        "#train: epcoch, batch_size\n",
        "model.fit(x_train, y_train, epochs=20, batch_size=128, verbose=1)\n",
        "\n",
        "model.summary()\n",
        "\n",
        "score = model.evaluate(x_test, y_test,batch_size=128, verbose=1)\n",
        "print(score)"
      ],
      "execution_count": 6,
      "outputs": [
        {
          "output_type": "stream",
          "text": [
            "Epoch 1/20\n",
            "60000/60000 [==============================] - 37s 614us/step - loss: 1.0509 - accuracy: 0.6626\n",
            "Epoch 2/20\n",
            "60000/60000 [==============================] - 37s 614us/step - loss: 0.3554 - accuracy: 0.8964\n",
            "Epoch 3/20\n",
            "60000/60000 [==============================] - 37s 613us/step - loss: 0.2387 - accuracy: 0.9322\n",
            "Epoch 4/20\n",
            "60000/60000 [==============================] - 36s 606us/step - loss: 0.1840 - accuracy: 0.9477\n",
            "Epoch 5/20\n",
            "60000/60000 [==============================] - 36s 602us/step - loss: 0.1575 - accuracy: 0.9549\n",
            "Epoch 6/20\n",
            "60000/60000 [==============================] - 35s 585us/step - loss: 0.1365 - accuracy: 0.9610\n",
            "Epoch 7/20\n",
            "60000/60000 [==============================] - 35s 584us/step - loss: 0.1209 - accuracy: 0.9658\n",
            "Epoch 8/20\n",
            "60000/60000 [==============================] - 36s 606us/step - loss: 0.1124 - accuracy: 0.9668\n",
            "Epoch 9/20\n",
            "60000/60000 [==============================] - 36s 605us/step - loss: 0.1003 - accuracy: 0.9704\n",
            "Epoch 10/20\n",
            "60000/60000 [==============================] - 36s 605us/step - loss: 0.0958 - accuracy: 0.9720\n",
            "Epoch 11/20\n",
            "60000/60000 [==============================] - 36s 601us/step - loss: 0.0879 - accuracy: 0.9746\n",
            "Epoch 12/20\n",
            "60000/60000 [==============================] - 36s 603us/step - loss: 0.0840 - accuracy: 0.9751\n",
            "Epoch 13/20\n",
            "60000/60000 [==============================] - 36s 597us/step - loss: 0.0775 - accuracy: 0.9779\n",
            "Epoch 14/20\n",
            "60000/60000 [==============================] - 36s 594us/step - loss: 0.0749 - accuracy: 0.9778\n",
            "Epoch 15/20\n",
            "60000/60000 [==============================] - 36s 597us/step - loss: 0.0711 - accuracy: 0.9791\n",
            "Epoch 16/20\n",
            "60000/60000 [==============================] - 36s 592us/step - loss: 0.0673 - accuracy: 0.9796\n",
            "Epoch 17/20\n",
            "60000/60000 [==============================] - 36s 592us/step - loss: 0.0636 - accuracy: 0.9807\n",
            "Epoch 18/20\n",
            "60000/60000 [==============================] - 36s 595us/step - loss: 0.0634 - accuracy: 0.9813\n",
            "Epoch 19/20\n",
            "60000/60000 [==============================] - 36s 592us/step - loss: 0.0577 - accuracy: 0.9831\n",
            "Epoch 20/20\n",
            "60000/60000 [==============================] - 36s 599us/step - loss: 0.0553 - accuracy: 0.9838\n",
            "Model: \"sequential_5\"\n",
            "_________________________________________________________________\n",
            "Layer (type)                 Output Shape              Param #   \n",
            "=================================================================\n",
            "lstm_1 (LSTM)                (None, 30)                7080      \n",
            "_________________________________________________________________\n",
            "dense_8 (Dense)              (None, 10)                310       \n",
            "=================================================================\n",
            "Total params: 7,390\n",
            "Trainable params: 7,390\n",
            "Non-trainable params: 0\n",
            "_________________________________________________________________\n",
            "10000/10000 [==============================] - 1s 78us/step\n",
            "[0.08500194666087628, 0.9757000207901001]\n"
          ],
          "name": "stdout"
        }
      ]
    },
    {
      "cell_type": "code",
      "metadata": {
        "id": "n0Q6RMLw12HZ",
        "colab_type": "code",
        "colab": {}
      },
      "source": [
        ""
      ],
      "execution_count": 0,
      "outputs": []
    },
    {
      "cell_type": "code",
      "metadata": {
        "id": "SWVizLVwyqNj",
        "colab_type": "code",
        "colab": {}
      },
      "source": [
        ""
      ],
      "execution_count": 0,
      "outputs": []
    }
  ]
}